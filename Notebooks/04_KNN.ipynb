{
 "cells": [
  {
   "cell_type": "code",
   "execution_count": 1,
   "metadata": {},
   "outputs": [],
   "source": [
    "import pandas as pd\n",
    "import numpy as np\n",
    "import warnings\n",
    "warnings.simplefilter(\"ignore\")\n",
    "from sklearn.model_selection import cross_val_score\n",
    "#leer carpetas\n",
    "import os"
   ]
  },
  {
   "cell_type": "markdown",
   "metadata": {},
   "source": [
    "# Base de datos"
   ]
  },
  {
   "cell_type": "code",
   "execution_count": 2,
   "metadata": {},
   "outputs": [
    {
     "data": {
      "text/html": [
       "<div>\n",
       "<style scoped>\n",
       "    .dataframe tbody tr th:only-of-type {\n",
       "        vertical-align: middle;\n",
       "    }\n",
       "\n",
       "    .dataframe tbody tr th {\n",
       "        vertical-align: top;\n",
       "    }\n",
       "\n",
       "    .dataframe thead th {\n",
       "        text-align: right;\n",
       "    }\n",
       "</style>\n",
       "<table border=\"1\" class=\"dataframe\">\n",
       "  <thead>\n",
       "    <tr style=\"text-align: right;\">\n",
       "      <th></th>\n",
       "      <th>Ppt_ERA5</th>\n",
       "      <th>Humedad</th>\n",
       "      <th>Temperatura</th>\n",
       "      <th>Presion</th>\n",
       "      <th>Elevación</th>\n",
       "      <th>CoorX</th>\n",
       "      <th>CoorY</th>\n",
       "      <th>Ppt_SIATA</th>\n",
       "    </tr>\n",
       "  </thead>\n",
       "  <tbody>\n",
       "    <tr>\n",
       "      <th>0</th>\n",
       "      <td>5.47598</td>\n",
       "      <td>33.672039</td>\n",
       "      <td>13.844298</td>\n",
       "      <td>802.956631</td>\n",
       "      <td>1781.0</td>\n",
       "      <td>-75.28</td>\n",
       "      <td>6.55</td>\n",
       "      <td>43.023724</td>\n",
       "    </tr>\n",
       "    <tr>\n",
       "      <th>1</th>\n",
       "      <td>5.47598</td>\n",
       "      <td>33.672039</td>\n",
       "      <td>14.142333</td>\n",
       "      <td>803.052634</td>\n",
       "      <td>1624.0</td>\n",
       "      <td>-75.27</td>\n",
       "      <td>6.55</td>\n",
       "      <td>38.443913</td>\n",
       "    </tr>\n",
       "  </tbody>\n",
       "</table>\n",
       "</div>"
      ],
      "text/plain": [
       "   Ppt_ERA5    Humedad  Temperatura     Presion  Elevación  CoorX  CoorY  \\\n",
       "0   5.47598  33.672039    13.844298  802.956631     1781.0 -75.28   6.55   \n",
       "1   5.47598  33.672039    14.142333  803.052634     1624.0 -75.27   6.55   \n",
       "\n",
       "   Ppt_SIATA  \n",
       "0  43.023724  \n",
       "1  38.443913  "
      ]
     },
     "execution_count": 2,
     "metadata": {},
     "output_type": "execute_result"
    }
   ],
   "source": [
    "# folder path\n",
    "dir_fold = 'C:/Users/carlo/OneDrive - Universidad Nacional de Colombia/Semestre 11/MachineLearning/DownScaling/VariablesListas'\n",
    "\n",
    "# list to store Folders\n",
    "folder = []\n",
    "\n",
    "# Iterate directory\n",
    "for path in os.listdir(dir_fold):\n",
    "    # check if current path is a file\n",
    "    #if os.path.isfile(os.path.join(dir_path, path)):\n",
    "        folder.append(path)\n",
    "\n",
    "orden = [3,2,6,5,1,0,4]\n",
    "\n",
    "df = pd.DataFrame()\n",
    "\n",
    "for i in orden:\n",
    "    df_i = pd.read_csv(dir_fold+'/'+folder[i])\n",
    "    df = pd.concat([df, df_i], axis=1)\n",
    "\n",
    "X = df.drop(['Ppt_SIATA'], axis=1)\n",
    "y = df['Ppt_SIATA']\n",
    "\n",
    "df.head(2)"
   ]
  },
  {
   "cell_type": "markdown",
   "metadata": {},
   "source": [
    "# 17:  KNN"
   ]
  },
  {
   "cell_type": "markdown",
   "metadata": {},
   "source": [
    "El método KNN (K-nearest neighbors) es un método simple y poderoso de clasificación, donde K se refiere al número de observaciones mas cercanas que utilizará el algoritmo."
   ]
  },
  {
   "cell_type": "markdown",
   "metadata": {},
   "source": [
    "Se importan las librerías generales a utilizar."
   ]
  },
  {
   "cell_type": "code",
   "execution_count": 3,
   "metadata": {},
   "outputs": [],
   "source": [
    "import numpy as np\n",
    "import matplotlib.pyplot as plt"
   ]
  },
  {
   "cell_type": "markdown",
   "metadata": {},
   "source": [
    "Para implementar el método inicialmente hacemos la partición en valores de entrenamiento y valores de validación."
   ]
  },
  {
   "cell_type": "code",
   "execution_count": 4,
   "metadata": {},
   "outputs": [],
   "source": [
    "from sklearn.model_selection import train_test_split\n",
    "X_train, X_test, y_train, y_test = train_test_split(X,y, test_size=0.2, random_state=1)"
   ]
  },
  {
   "cell_type": "markdown",
   "metadata": {},
   "source": [
    "Para implementar el método importamos la librería y en este caso utilizaremos los 4 vecinos mas cercanos."
   ]
  },
  {
   "cell_type": "code",
   "execution_count": 50,
   "metadata": {},
   "outputs": [],
   "source": [
    "from sklearn.neighbors import KNeighborsRegressor\n",
    "knn = KNeighborsRegressor(n_neighbors = 30)\n",
    "knn_train = knn.fit(X_train,y_train)"
   ]
  },
  {
   "cell_type": "markdown",
   "metadata": {},
   "source": [
    "Para predecir con los valores de validación se utiliza."
   ]
  },
  {
   "cell_type": "code",
   "execution_count": 51,
   "metadata": {},
   "outputs": [
    {
     "data": {
      "text/plain": [
       "array([3.57191788, 4.43966262, 0.99930312, 2.92694005, 4.14044009,\n",
       "       2.04444412, 0.99926333, 2.99823862, 3.0771426 , 1.9187307 ])"
      ]
     },
     "execution_count": 51,
     "metadata": {},
     "output_type": "execute_result"
    }
   ],
   "source": [
    "y_pred=knn.predict(X_test)\n",
    "y_pred[:10]"
   ]
  },
  {
   "cell_type": "markdown",
   "metadata": {},
   "source": [
    "Para obtener la precisión se puede utilizar la función *score*."
   ]
  },
  {
   "cell_type": "code",
   "execution_count": 52,
   "metadata": {},
   "outputs": [
    {
     "name": "stdout",
     "output_type": "stream",
     "text": [
      "0.039182046177158925\n"
     ]
    }
   ],
   "source": [
    "print(knn.score(X_test,y_test))"
   ]
  },
  {
   "cell_type": "markdown",
   "metadata": {},
   "source": [
    "Utilizando la partición *kfold Shuffle* para los valores de entrenamiento obtenemos los siguientes resultados:"
   ]
  },
  {
   "cell_type": "code",
   "execution_count": 53,
   "metadata": {},
   "outputs": [
    {
     "name": "stdout",
     "output_type": "stream",
     "text": [
      "0.02819679066164289\n",
      "0.0032954118720530186\n"
     ]
    }
   ],
   "source": [
    "from sklearn.model_selection import ShuffleSplit\n",
    "from sklearn.model_selection import cross_val_score\n",
    "kfold = ShuffleSplit(n_splits=5)\n",
    "results = cross_val_score(knn, X_train, y_train, cv=kfold)\n",
    "print(results.mean())\n",
    "print(results.std())"
   ]
  },
  {
   "cell_type": "code",
   "execution_count": 54,
   "metadata": {},
   "outputs": [],
   "source": [
    "y_pred_vect = knn.predict(X)"
   ]
  },
  {
   "cell_type": "code",
   "execution_count": 55,
   "metadata": {},
   "outputs": [
    {
     "data": {
      "text/plain": [
       "2.756706778628538"
      ]
     },
     "execution_count": 55,
     "metadata": {},
     "output_type": "execute_result"
    }
   ],
   "source": [
    "np.mean(y_pred_vect)"
   ]
  },
  {
   "cell_type": "code",
   "execution_count": 56,
   "metadata": {},
   "outputs": [],
   "source": [
    "#Guardar Precipitación SIATA\n",
    "(pd.DataFrame(zip(y_pred_vect),columns=['Ppt_KNN'])).to_csv('Resultados_Ppt/Ppt_KNN.csv', index=False)"
   ]
  }
 ],
 "metadata": {
  "kernelspec": {
   "display_name": "ml",
   "language": "python",
   "name": "python3"
  },
  "language_info": {
   "codemirror_mode": {
    "name": "ipython",
    "version": 3
   },
   "file_extension": ".py",
   "mimetype": "text/x-python",
   "name": "python",
   "nbconvert_exporter": "python",
   "pygments_lexer": "ipython3",
   "version": "3.10.6"
  },
  "toc": {
   "base_numbering": 1,
   "nav_menu": {},
   "number_sections": true,
   "sideBar": true,
   "skip_h1_title": false,
   "title_cell": "Table of Contents",
   "title_sidebar": "Contents",
   "toc_cell": false,
   "toc_position": {},
   "toc_section_display": true,
   "toc_window_display": false
  },
  "vscode": {
   "interpreter": {
    "hash": "e461adfafd475f56652dba83b75c01c57df1cbc5444fe8c403cad4fc4480e6ab"
   }
  }
 },
 "nbformat": 4,
 "nbformat_minor": 4
}
